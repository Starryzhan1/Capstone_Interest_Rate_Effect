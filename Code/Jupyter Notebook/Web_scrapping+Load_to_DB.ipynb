{
 "cells": [
  {
   "cell_type": "code",
   "execution_count": 1,
   "id": "71bf0d9e-4134-450f-857d-d56977e83ccc",
   "metadata": {},
   "outputs": [],
   "source": [
    "import requests\n",
    "from bs4 import BeautifulSoup\n",
    "import pandas as pd\n",
    "from datetime import datetime"
   ]
  },
  {
   "cell_type": "code",
   "execution_count": 2,
   "id": "d5f4308e-69d8-46e4-b25a-8ec68bf3ee2b",
   "metadata": {},
   "outputs": [],
   "source": [
    "START_YEAR = 2019\n",
    "END_YEAR = 2025"
   ]
  },
  {
   "cell_type": "code",
   "execution_count": 4,
   "id": "8f6c77a8-b67e-4041-98fa-bd8f77b66fd5",
   "metadata": {},
   "outputs": [],
   "source": [
    "#ECB interest rate page\n",
    "url = 'https://www.ecb.europa.eu/stats/policy_and_exchange_rates/key_ecb_interest_rates/html/index.en.html'\n",
    "headers = {\"User-Agent\": \"Mozilla/5.0\"}\n",
    "response = requests.get(url, headers=headers)\n",
    "soup = BeautifulSoup(response.text, 'html.parser')"
   ]
  },
  {
   "cell_type": "code",
   "execution_count": 5,
   "id": "ec9024f7-692f-4eb1-8867-7c526b0bd0f9",
   "metadata": {},
   "outputs": [],
   "source": [
    "# Find all tables on the page\n",
    "tables = soup.find_all('table')\n",
    "\n",
    "# Process the main rate table (first table on the page)\n",
    "rate_table = tables[0]"
   ]
  },
  {
   "cell_type": "code",
   "execution_count": 6,
   "id": "c5955a40-41df-4614-a1b2-d0988d87009a",
   "metadata": {},
   "outputs": [],
   "source": [
    "# Parse table rows\n",
    "data = []\n",
    "for row in rate_table.find_all('tr')[1:]:  # skip header\n",
    "    cols = row.find_all(['td', 'th'])\n",
    "    cols_text = [c.get_text(strip=True).replace('\\u202f', '') for c in cols]\n",
    "    if len(cols_text) >= 6:\n",
    "        year = cols_text[0]\n",
    "        date_str = cols_text[1]\n",
    "        full_date_str = f\"{date_str} {year}\"\n",
    "\n",
    "        try:\n",
    "            effective_date = datetime.strptime(full_date_str, \"%d %b. %Y\")\n",
    "        except ValueError:\n",
    "            continue  # skip rows that don't parse\n",
    "\n",
    "        if START_YEAR <= effective_date.year <= END_YEAR:\n",
    "            data.append([\n",
    "                effective_date.date(),\n",
    "                cols_text[2],  # Deposit Facility\n",
    "                cols_text[3],  # Main Refi (Fixed Rate)\n",
    "                cols_text[5],  # Marginal Lending Facility\n",
    "            ])\n"
   ]
  },
  {
   "cell_type": "code",
   "execution_count": 7,
   "id": "8b864b97-8c46-4d3a-a780-9f3e5874b55f",
   "metadata": {},
   "outputs": [],
   "source": [
    "# Build DataFrame\n",
    "df = pd.DataFrame(data, columns=[\n",
    "    \"Effective Date\", \"Deposit Facility (%)\",\n",
    "    \"Main Refinancing Rate (%)\", \"Marginal Lending Facility (%)\"\n",
    "])\n"
   ]
  },
  {
   "cell_type": "code",
   "execution_count": 8,
   "id": "74d1278e-0f73-4186-92c7-25fecfe5c17d",
   "metadata": {},
   "outputs": [],
   "source": [
    "# Save to CSV\n",
    "df.to_csv(\"ecb_filtered_rates.csv\", index=False)"
   ]
  },
  {
   "cell_type": "code",
   "execution_count": 9,
   "id": "e37c54a5-fa75-4b10-b292-5c96cd6554bb",
   "metadata": {},
   "outputs": [
    {
     "name": "stdout",
     "output_type": "stream",
     "text": [
      "  Effective Date Deposit Facility (%) Main Refinancing Rate (%)  \\\n",
      "0     2025-06-11                 2.00                      2.15   \n",
      "1     2025-04-23                 2.25                      2.40   \n",
      "2     2025-03-12                 2.50                      2.65   \n",
      "3     2025-02-05                 2.75                      2.90   \n",
      "4     2024-12-18                 3.00                      3.15   \n",
      "\n",
      "  Marginal Lending Facility (%)  \n",
      "0                          2.40  \n",
      "1                          2.65  \n",
      "2                          2.90  \n",
      "3                          3.15  \n",
      "4                          3.40  \n"
     ]
    }
   ],
   "source": [
    "# Show preview\n",
    "print(df.head())"
   ]
  },
  {
   "cell_type": "code",
   "execution_count": 10,
   "id": "74997a44-2328-4b28-bac1-c274813e2da0",
   "metadata": {},
   "outputs": [
    {
     "data": {
      "text/html": [
       "<div>\n",
       "<style scoped>\n",
       "    .dataframe tbody tr th:only-of-type {\n",
       "        vertical-align: middle;\n",
       "    }\n",
       "\n",
       "    .dataframe tbody tr th {\n",
       "        vertical-align: top;\n",
       "    }\n",
       "\n",
       "    .dataframe thead th {\n",
       "        text-align: right;\n",
       "    }\n",
       "</style>\n",
       "<table border=\"1\" class=\"dataframe\">\n",
       "  <thead>\n",
       "    <tr style=\"text-align: right;\">\n",
       "      <th></th>\n",
       "      <th>Effective Date</th>\n",
       "      <th>Deposit Facility (%)</th>\n",
       "      <th>Main Refinancing Rate (%)</th>\n",
       "      <th>Marginal Lending Facility (%)</th>\n",
       "    </tr>\n",
       "  </thead>\n",
       "  <tbody>\n",
       "    <tr>\n",
       "      <th>0</th>\n",
       "      <td>2025-06-11</td>\n",
       "      <td>2.00</td>\n",
       "      <td>2.15</td>\n",
       "      <td>2.40</td>\n",
       "    </tr>\n",
       "    <tr>\n",
       "      <th>1</th>\n",
       "      <td>2025-04-23</td>\n",
       "      <td>2.25</td>\n",
       "      <td>2.40</td>\n",
       "      <td>2.65</td>\n",
       "    </tr>\n",
       "    <tr>\n",
       "      <th>2</th>\n",
       "      <td>2025-03-12</td>\n",
       "      <td>2.50</td>\n",
       "      <td>2.65</td>\n",
       "      <td>2.90</td>\n",
       "    </tr>\n",
       "    <tr>\n",
       "      <th>3</th>\n",
       "      <td>2025-02-05</td>\n",
       "      <td>2.75</td>\n",
       "      <td>2.90</td>\n",
       "      <td>3.15</td>\n",
       "    </tr>\n",
       "    <tr>\n",
       "      <th>4</th>\n",
       "      <td>2024-12-18</td>\n",
       "      <td>3.00</td>\n",
       "      <td>3.15</td>\n",
       "      <td>3.40</td>\n",
       "    </tr>\n",
       "    <tr>\n",
       "      <th>5</th>\n",
       "      <td>2024-10-23</td>\n",
       "      <td>3.25</td>\n",
       "      <td>3.40</td>\n",
       "      <td>3.65</td>\n",
       "    </tr>\n",
       "    <tr>\n",
       "      <th>6</th>\n",
       "      <td>2024-06-12</td>\n",
       "      <td>3.75</td>\n",
       "      <td>4.25</td>\n",
       "      <td>4.50</td>\n",
       "    </tr>\n",
       "    <tr>\n",
       "      <th>7</th>\n",
       "      <td>2023-09-20</td>\n",
       "      <td>4.00</td>\n",
       "      <td>4.50</td>\n",
       "      <td>4.75</td>\n",
       "    </tr>\n",
       "    <tr>\n",
       "      <th>8</th>\n",
       "      <td>2023-08-02</td>\n",
       "      <td>3.75</td>\n",
       "      <td>4.25</td>\n",
       "      <td>4.50</td>\n",
       "    </tr>\n",
       "    <tr>\n",
       "      <th>9</th>\n",
       "      <td>2023-06-21</td>\n",
       "      <td>3.50</td>\n",
       "      <td>4.00</td>\n",
       "      <td>4.25</td>\n",
       "    </tr>\n",
       "    <tr>\n",
       "      <th>10</th>\n",
       "      <td>2023-03-22</td>\n",
       "      <td>3.00</td>\n",
       "      <td>3.50</td>\n",
       "      <td>3.75</td>\n",
       "    </tr>\n",
       "    <tr>\n",
       "      <th>11</th>\n",
       "      <td>2023-02-08</td>\n",
       "      <td>2.50</td>\n",
       "      <td>3.00</td>\n",
       "      <td>3.25</td>\n",
       "    </tr>\n",
       "    <tr>\n",
       "      <th>12</th>\n",
       "      <td>2022-12-21</td>\n",
       "      <td>2.00</td>\n",
       "      <td>2.50</td>\n",
       "      <td>2.75</td>\n",
       "    </tr>\n",
       "    <tr>\n",
       "      <th>13</th>\n",
       "      <td>2022-11-02</td>\n",
       "      <td>1.50</td>\n",
       "      <td>2.00</td>\n",
       "      <td>2.25</td>\n",
       "    </tr>\n",
       "    <tr>\n",
       "      <th>14</th>\n",
       "      <td>2022-09-14</td>\n",
       "      <td>0.75</td>\n",
       "      <td>1.25</td>\n",
       "      <td>1.50</td>\n",
       "    </tr>\n",
       "    <tr>\n",
       "      <th>15</th>\n",
       "      <td>2022-07-27</td>\n",
       "      <td>0.00</td>\n",
       "      <td>0.50</td>\n",
       "      <td>0.75</td>\n",
       "    </tr>\n",
       "    <tr>\n",
       "      <th>16</th>\n",
       "      <td>2019-09-18</td>\n",
       "      <td>−0.50</td>\n",
       "      <td>0.00</td>\n",
       "      <td>0.25</td>\n",
       "    </tr>\n",
       "  </tbody>\n",
       "</table>\n",
       "</div>"
      ],
      "text/plain": [
       "   Effective Date Deposit Facility (%) Main Refinancing Rate (%)  \\\n",
       "0      2025-06-11                 2.00                      2.15   \n",
       "1      2025-04-23                 2.25                      2.40   \n",
       "2      2025-03-12                 2.50                      2.65   \n",
       "3      2025-02-05                 2.75                      2.90   \n",
       "4      2024-12-18                 3.00                      3.15   \n",
       "5      2024-10-23                 3.25                      3.40   \n",
       "6      2024-06-12                 3.75                      4.25   \n",
       "7      2023-09-20                 4.00                      4.50   \n",
       "8      2023-08-02                 3.75                      4.25   \n",
       "9      2023-06-21                 3.50                      4.00   \n",
       "10     2023-03-22                 3.00                      3.50   \n",
       "11     2023-02-08                 2.50                      3.00   \n",
       "12     2022-12-21                 2.00                      2.50   \n",
       "13     2022-11-02                 1.50                      2.00   \n",
       "14     2022-09-14                 0.75                      1.25   \n",
       "15     2022-07-27                 0.00                      0.50   \n",
       "16     2019-09-18                −0.50                      0.00   \n",
       "\n",
       "   Marginal Lending Facility (%)  \n",
       "0                           2.40  \n",
       "1                           2.65  \n",
       "2                           2.90  \n",
       "3                           3.15  \n",
       "4                           3.40  \n",
       "5                           3.65  \n",
       "6                           4.50  \n",
       "7                           4.75  \n",
       "8                           4.50  \n",
       "9                           4.25  \n",
       "10                          3.75  \n",
       "11                          3.25  \n",
       "12                          2.75  \n",
       "13                          2.25  \n",
       "14                          1.50  \n",
       "15                          0.75  \n",
       "16                          0.25  "
      ]
     },
     "execution_count": 10,
     "metadata": {},
     "output_type": "execute_result"
    }
   ],
   "source": [
    "df"
   ]
  },
  {
   "cell_type": "code",
   "execution_count": 11,
   "id": "e311152b-5c55-4926-bd38-c6f3f09755fd",
   "metadata": {},
   "outputs": [],
   "source": [
    "from sqlalchemy import create_engine, types\n",
    "from sqlalchemy import text"
   ]
  },
  {
   "cell_type": "code",
   "execution_count": 21,
   "id": "3e111c8e-4b0b-411a-b433-6a9cfd2faf48",
   "metadata": {},
   "outputs": [],
   "source": [
    "ecb_dtypes = {\n",
    "    'Effective Date': types.Date,\n",
    "    'Deposit Facility (%)': types.Float,\n",
    "    'Main Refinancing Rate (%)': types.Float,\n",
    "    'Marginal Lending Facility (%)': types.Float\n",
    "    }"
   ]
  },
  {
   "cell_type": "code",
   "execution_count": 22,
   "id": "3bddf302-2637-448e-8b68-f19e220da823",
   "metadata": {},
   "outputs": [],
   "source": [
    "for col in ['Deposit Facility (%)']:\n",
    "    df[col] = df[col].astype(str).str.replace('−', '-', regex=False)  \n",
    "    df[col] = df[col].str.replace('%', '', regex=False)  \n",
    "    df[col] = pd.to_numeric(df[col], errors='coerce')"
   ]
  },
  {
   "cell_type": "code",
   "execution_count": null,
   "id": "793c5006-ee03-4f54-94d6-19af60e1fc1a",
   "metadata": {},
   "outputs": [],
   "source": [
    "from dotenv import dotenv_values\n",
    "\n",
    "config = dotenv_values(fr'')\n",
    "\n",
    "pg_user = config['POSTGRES_USER'] \n",
    "pg_host = config['POSTGRES_HOST']\n",
    "pg_port = config['POSTGRES_PORT']\n",
    "pg_db = config['POSTGRES_DB']\n",
    "pg_schema = config['POSTGRES_SCHEMA']\n",
    "pg_pass = config['POSTGRES_PASS']"
   ]
  },
  {
   "cell_type": "code",
   "execution_count": 15,
   "id": "3a8b7f90-8016-4a9e-90cd-3bc79fbb2b60",
   "metadata": {},
   "outputs": [],
   "source": [
    "url = f'postgresql://{pg_user}:{pg_pass}@{pg_host}:{pg_port}/{pg_db}'"
   ]
  },
  {
   "cell_type": "code",
   "execution_count": 16,
   "id": "b5254ae2-27dd-413a-9d41-a37bd9009271",
   "metadata": {},
   "outputs": [],
   "source": [
    "engine = create_engine(url, echo=False)"
   ]
  },
  {
   "cell_type": "code",
   "execution_count": 17,
   "id": "f250ce98-8556-4d21-a104-08235089258c",
   "metadata": {},
   "outputs": [],
   "source": [
    "with engine.begin() as conn: \n",
    "    result = conn.execute(text(f'SET search_path TO {pg_schema};'))"
   ]
  },
  {
   "cell_type": "code",
   "execution_count": 23,
   "id": "38010e2b-b04d-476d-a7a5-fba62f4e38f0",
   "metadata": {},
   "outputs": [
    {
     "data": {
      "text/plain": [
       "17"
      ]
     },
     "execution_count": 23,
     "metadata": {},
     "output_type": "execute_result"
    }
   ],
   "source": [
    "df.to_sql(name = 'ecb_interest_rate', \n",
    "                       con = engine, \n",
    "                       schema = pg_schema,\n",
    "                       if_exists='replace', \n",
    "                       dtype=ecb_dtypes,\n",
    "                       index=False\n",
    "                      )"
   ]
  }
 ],
 "metadata": {
  "kernelspec": {
   "display_name": "Python 3 (ipykernel)",
   "language": "python",
   "name": "python3"
  },
  "language_info": {
   "codemirror_mode": {
    "name": "ipython",
    "version": 3
   },
   "file_extension": ".py",
   "mimetype": "text/x-python",
   "name": "python",
   "nbconvert_exporter": "python",
   "pygments_lexer": "ipython3",
   "version": "3.13.2"
  }
 },
 "nbformat": 4,
 "nbformat_minor": 5
}
